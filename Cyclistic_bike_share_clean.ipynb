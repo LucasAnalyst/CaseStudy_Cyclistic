{
 "cells": [
  {
   "attachments": {},
   "cell_type": "markdown",
   "metadata": {},
   "source": [
    "# Cyclistic bike share analysis"
   ]
  },
  {
   "cell_type": "code",
   "execution_count": null,
   "metadata": {},
   "outputs": [
    {
     "name": "stdout",
     "output_type": "stream",
     "text": [
      "Completed import libraries!\n"
     ]
    }
   ],
   "source": [
    "# Import necessary libraries\n",
    "import pandas as pd\n",
    "import numpy as np\n",
    "#import matplotlib.pyplot as plt\n",
    "#import plotly.express as px\n",
    "#import plotly.graph_objects as go\n",
    "import os\n",
    "from datetime import date, timedelta\n",
    "print(\"Completed import libraries!\")"
   ]
  },
  {
   "attachments": {},
   "cell_type": "markdown",
   "metadata": {},
   "source": [
    "## STEP 1: COLLECT DATA\n",
    " \n",
    "Collect the previous 12 months of Cyclistic’s historical trip data. Download the Cyclistic trip data\n",
    "[here](https://divvy-tripdata.s3.amazonaws.com/index.html).\n",
    "\n",
    "The data has been made available by Motivate International Inc. under this [license](https://www.divvybikes.com/data-license-agreement).\n"
   ]
  },
  {
   "cell_type": "code",
   "execution_count": 3,
   "metadata": {},
   "outputs": [],
   "source": [
    "## Read in data from my folder path: C:\\Users\\lucas\\OneDrive\\Desktop\\VSCode\\Cyclistic_bike_share\\data\n",
    "### create an empty list to store the dataframes\n",
    "dfs = []\n",
    "YM  = [202204,202205,202206,202207,202208,202209,202210,202211,202212,202301,202302,202303]\n",
    "file_path = \"C:/Users/lucas/OneDrive/Desktop/VSCode/Cyclistic_bike_share/data\" \n",
    "### loop through the file names and read each file into a dataframe\n",
    "for i in YM:\n",
    "    filename = f\"{file_path}/{i}-divvy-tripdata.csv\"  # assuming the files are in CSV format\n",
    "    df = pd.read_csv(filename)\n",
    "    dfs.append(df)\n",
    "\n",
    "### concatenate all dataframes in the list vertically\n",
    "df_bike = pd.concat(dfs, axis=0)\n",
    "\n",
    "### reset the index of the combined dataframe\n",
    "df_bike = df_bike.reset_index(drop=True)"
   ]
  },
  {
   "cell_type": "code",
   "execution_count": 4,
   "metadata": {},
   "outputs": [],
   "source": [
    "## Make a copy of the dataframe \n",
    "df = df_bike.copy()"
   ]
  },
  {
   "attachments": {},
   "cell_type": "markdown",
   "metadata": {},
   "source": [
    "## STEP 2: WRANGLE DATA"
   ]
  },
  {
   "cell_type": "code",
   "execution_count": 5,
   "metadata": {},
   "outputs": [
    {
     "data": {
      "text/html": [
       "<div>\n",
       "<style scoped>\n",
       "    .dataframe tbody tr th:only-of-type {\n",
       "        vertical-align: middle;\n",
       "    }\n",
       "\n",
       "    .dataframe tbody tr th {\n",
       "        vertical-align: top;\n",
       "    }\n",
       "\n",
       "    .dataframe thead th {\n",
       "        text-align: right;\n",
       "    }\n",
       "</style>\n",
       "<table border=\"1\" class=\"dataframe\">\n",
       "  <thead>\n",
       "    <tr style=\"text-align: right;\">\n",
       "      <th></th>\n",
       "      <th>ride_id</th>\n",
       "      <th>rideable_type</th>\n",
       "      <th>started_at</th>\n",
       "      <th>ended_at</th>\n",
       "      <th>start_station_name</th>\n",
       "      <th>start_station_id</th>\n",
       "      <th>end_station_name</th>\n",
       "      <th>end_station_id</th>\n",
       "      <th>start_lat</th>\n",
       "      <th>start_lng</th>\n",
       "      <th>end_lat</th>\n",
       "      <th>end_lng</th>\n",
       "      <th>member_casual</th>\n",
       "    </tr>\n",
       "  </thead>\n",
       "  <tbody>\n",
       "    <tr>\n",
       "      <th>5803715</th>\n",
       "      <td>BA8B9D1D0AAF5F25</td>\n",
       "      <td>electric_bike</td>\n",
       "      <td>2023-03-08 00:00:02</td>\n",
       "      <td>2023-03-08 00:06:25</td>\n",
       "      <td>Rush St &amp; Hubbard St</td>\n",
       "      <td>KA1503000044</td>\n",
       "      <td>Canal St &amp; Adams St</td>\n",
       "      <td>13011</td>\n",
       "      <td>41.890202</td>\n",
       "      <td>-87.626232</td>\n",
       "      <td>41.879255</td>\n",
       "      <td>-87.639904</td>\n",
       "      <td>member</td>\n",
       "    </tr>\n",
       "    <tr>\n",
       "      <th>5803716</th>\n",
       "      <td>841F8FE05B117E00</td>\n",
       "      <td>classic_bike</td>\n",
       "      <td>2023-03-21 14:24:42</td>\n",
       "      <td>2023-03-21 14:50:45</td>\n",
       "      <td>Sheridan Rd &amp; Montrose Ave</td>\n",
       "      <td>TA1307000107</td>\n",
       "      <td>Sheridan Rd &amp; Buena Ave</td>\n",
       "      <td>TA1309000027</td>\n",
       "      <td>41.961670</td>\n",
       "      <td>-87.654640</td>\n",
       "      <td>41.958494</td>\n",
       "      <td>-87.654966</td>\n",
       "      <td>member</td>\n",
       "    </tr>\n",
       "    <tr>\n",
       "      <th>5803717</th>\n",
       "      <td>25892EF6A0949B97</td>\n",
       "      <td>electric_bike</td>\n",
       "      <td>2023-03-21 16:48:52</td>\n",
       "      <td>2023-03-21 16:51:27</td>\n",
       "      <td>Halsted St &amp; Roscoe St</td>\n",
       "      <td>TA1309000025</td>\n",
       "      <td>Broadway &amp; Waveland Ave</td>\n",
       "      <td>13325</td>\n",
       "      <td>41.943681</td>\n",
       "      <td>-87.648830</td>\n",
       "      <td>41.949074</td>\n",
       "      <td>-87.648636</td>\n",
       "      <td>member</td>\n",
       "    </tr>\n",
       "    <tr>\n",
       "      <th>5803718</th>\n",
       "      <td>F6514CD31F2A9723</td>\n",
       "      <td>classic_bike</td>\n",
       "      <td>2023-03-16 20:36:05</td>\n",
       "      <td>2023-03-16 20:43:11</td>\n",
       "      <td>Sheridan Rd &amp; Montrose Ave</td>\n",
       "      <td>TA1307000107</td>\n",
       "      <td>Broadway &amp; Waveland Ave</td>\n",
       "      <td>13325</td>\n",
       "      <td>41.961670</td>\n",
       "      <td>-87.654640</td>\n",
       "      <td>41.949074</td>\n",
       "      <td>-87.648636</td>\n",
       "      <td>member</td>\n",
       "    </tr>\n",
       "    <tr>\n",
       "      <th>5803719</th>\n",
       "      <td>FEDA9EE828BC56BF</td>\n",
       "      <td>electric_bike</td>\n",
       "      <td>2023-03-27 19:58:08</td>\n",
       "      <td>2023-03-27 20:03:52</td>\n",
       "      <td>Clark St &amp; Wellington Ave</td>\n",
       "      <td>TA1307000136</td>\n",
       "      <td>Broadway &amp; Waveland Ave</td>\n",
       "      <td>13325</td>\n",
       "      <td>41.936490</td>\n",
       "      <td>-87.647581</td>\n",
       "      <td>41.949074</td>\n",
       "      <td>-87.648636</td>\n",
       "      <td>member</td>\n",
       "    </tr>\n",
       "  </tbody>\n",
       "</table>\n",
       "</div>"
      ],
      "text/plain": [
       "                  ride_id  rideable_type           started_at  \\\n",
       "5803715  BA8B9D1D0AAF5F25  electric_bike  2023-03-08 00:00:02   \n",
       "5803716  841F8FE05B117E00   classic_bike  2023-03-21 14:24:42   \n",
       "5803717  25892EF6A0949B97  electric_bike  2023-03-21 16:48:52   \n",
       "5803718  F6514CD31F2A9723   classic_bike  2023-03-16 20:36:05   \n",
       "5803719  FEDA9EE828BC56BF  electric_bike  2023-03-27 19:58:08   \n",
       "\n",
       "                    ended_at          start_station_name start_station_id  \\\n",
       "5803715  2023-03-08 00:06:25        Rush St & Hubbard St     KA1503000044   \n",
       "5803716  2023-03-21 14:50:45  Sheridan Rd & Montrose Ave     TA1307000107   \n",
       "5803717  2023-03-21 16:51:27      Halsted St & Roscoe St     TA1309000025   \n",
       "5803718  2023-03-16 20:43:11  Sheridan Rd & Montrose Ave     TA1307000107   \n",
       "5803719  2023-03-27 20:03:52   Clark St & Wellington Ave     TA1307000136   \n",
       "\n",
       "                end_station_name end_station_id  start_lat  start_lng  \\\n",
       "5803715      Canal St & Adams St          13011  41.890202 -87.626232   \n",
       "5803716  Sheridan Rd & Buena Ave   TA1309000027  41.961670 -87.654640   \n",
       "5803717  Broadway & Waveland Ave          13325  41.943681 -87.648830   \n",
       "5803718  Broadway & Waveland Ave          13325  41.961670 -87.654640   \n",
       "5803719  Broadway & Waveland Ave          13325  41.936490 -87.647581   \n",
       "\n",
       "           end_lat    end_lng member_casual  \n",
       "5803715  41.879255 -87.639904        member  \n",
       "5803716  41.958494 -87.654966        member  \n",
       "5803717  41.949074 -87.648636        member  \n",
       "5803718  41.949074 -87.648636        member  \n",
       "5803719  41.949074 -87.648636        member  "
      ]
     },
     "execution_count": 5,
     "metadata": {},
     "output_type": "execute_result"
    }
   ],
   "source": [
    "# See the last 6 rows of dataframe. Also use head() to get first 6 rows\n",
    "df.tail()"
   ]
  },
  {
   "cell_type": "code",
   "execution_count": 6,
   "metadata": {},
   "outputs": [
    {
     "name": "stdout",
     "output_type": "stream",
     "text": [
      "(5803720, 13)\n",
      "<class 'pandas.core.frame.DataFrame'>\n",
      "RangeIndex: 5803720 entries, 0 to 5803719\n",
      "Data columns (total 13 columns):\n",
      " #   Column              Dtype  \n",
      "---  ------              -----  \n",
      " 0   ride_id             object \n",
      " 1   rideable_type       object \n",
      " 2   started_at          object \n",
      " 3   ended_at            object \n",
      " 4   start_station_name  object \n",
      " 5   start_station_id    object \n",
      " 6   end_station_name    object \n",
      " 7   end_station_id      object \n",
      " 8   start_lat           float64\n",
      " 9   start_lng           float64\n",
      " 10  end_lat             float64\n",
      " 11  end_lng             float64\n",
      " 12  member_casual       object \n",
      "dtypes: float64(4), object(9)\n",
      "memory usage: 575.6+ MB\n"
     ]
    }
   ],
   "source": [
    "# Check the number of columns and rows in dataframe and see the list of columns and data types\n",
    "print(df.shape)\n",
    "df.info()"
   ]
  },
  {
   "attachments": {},
   "cell_type": "markdown",
   "metadata": {},
   "source": [
    "> Documention 23/6/2023 4:35 PM: \n",
    ">  *  5803720 columns and 13 rows. \n",
    ">  *  Some data type is not quite right such as: started_at, ended_at."
   ]
  },
  {
   "cell_type": "code",
   "execution_count": 7,
   "metadata": {},
   "outputs": [
    {
     "name": "stdout",
     "output_type": "stream",
     "text": [
      "['member' 'casual']\n",
      "['electric_bike' 'classic_bike' 'docked_bike']\n"
     ]
    }
   ],
   "source": [
    "# See the User Type and Bike Type\n",
    "print(df[\"member_casual\"].unique())\n",
    "print(df[\"rideable_type\"].unique())"
   ]
  },
  {
   "attachments": {},
   "cell_type": "markdown",
   "metadata": {},
   "source": [
    "### Decription of the datafrane\n",
    "- 0   ride_id             Rental ID\n",
    "- 1   rideable_type       Bike Type - ['electric_bike' 'classic_bike' 'docked_bike']\n",
    "- 2   started_at          Local Start Time \n",
    "- 3   ended_at            Local End Time\n",
    "- 4   start_station_name  Start Station Name\n",
    "- 5   start_station_id    Start Station ID \n",
    "- 6   end_station_name    End Station Name\n",
    "- 7   end_station_id      End Station ID \n",
    "- 8   start_lat           Start Latitude\n",
    "- 9   start_lng           Start Longitude\n",
    "- 10  end_lat             End Latitude\n",
    "- 11  end_lng             End Longitude\n",
    "- 12  member_casual       User Type - ['member' 'casual']"
   ]
  },
  {
   "attachments": {},
   "cell_type": "markdown",
   "metadata": {},
   "source": [
    "## STEP 3: CLEAN UP AND TRANSFORMING DATA TO PREPARE FOR ANALYSIS"
   ]
  },
  {
   "attachments": {},
   "cell_type": "markdown",
   "metadata": {},
   "source": [
    "There are a few problems we will need to fix:\n",
    "1. The data type of the start time(started_at) and end time(ended_at) is object.\n",
    "2. The data can only be aggregated at the ride-level, which is too granular. We will want to add some additional columns of data -- such as day, month, year -- that provide additional opportunities to aggregate the data.\n",
    "3. We will need to add a calculated field for length of each ride (ride_length) for consistency.\n",
    "4. Remove/fill \"bad\" data.\n"
   ]
  },
  {
   "cell_type": "code",
   "execution_count": 8,
   "metadata": {},
   "outputs": [
    {
     "name": "stdout",
     "output_type": "stream",
     "text": [
      "unique ride_id\n",
      "ride_id is the index now.\n"
     ]
    }
   ],
   "source": [
    "# Set index for ride_id\n",
    "\n",
    "## Check if ride_id is unique and set ride_id to be index of the table\n",
    "if df['ride_id'].is_unique == True:\n",
    "    print(\"unique ride_id\")\n",
    "    df.set_index('ride_id', inplace= True)\n",
    "    print(\"ride_id is the index now.\")\n",
    "else: print(\"ride_id is not unique\")"
   ]
  },
  {
   "attachments": {},
   "cell_type": "markdown",
   "metadata": {},
   "source": [
    "### Convert the data type "
   ]
  },
  {
   "cell_type": "code",
   "execution_count": 9,
   "metadata": {},
   "outputs": [
    {
     "name": "stdout",
     "output_type": "stream",
     "text": [
      "['Cyclistic_member' 'Casual_rider']\n",
      "Completed Convert!\n",
      "rideable_type               category\n",
      "started_at            datetime64[ns]\n",
      "ended_at              datetime64[ns]\n",
      "start_station_name            object\n",
      "start_station_id              object\n",
      "end_station_name              object\n",
      "end_station_id                object\n",
      "start_lat                    float64\n",
      "start_lng                    float64\n",
      "end_lat                      float64\n",
      "end_lng                      float64\n",
      "member_casual               category\n",
      "dtype: object\n"
     ]
    }
   ],
   "source": [
    "## started_at, ended_at to datetime format YYYY-MM-DD hh:mm:ss\n",
    "df['started_at'] = pd.to_datetime(df['started_at'])\n",
    "df['ended_at'] = pd.to_datetime(df['ended_at'])\n",
    "\n",
    "##  Changed the User Type into Casual_rider and Cyclistic_member \n",
    "### Casual riders: Customers who purchase single-ride or full-day passes \n",
    "### Cyclistic members: Customers who purchase annual memberships\n",
    "df = df.replace({\"member_casual\" : { \"member\" : \"Cyclistic_member\", \"casual\" : \"Casual_rider\"}})\n",
    "print(df[\"member_casual\"].unique())\n",
    "\n",
    "## Changed rideable_type, member_casual to categories, and rideable_type to string\n",
    "df['rideable_type'] = df['rideable_type'].astype(str)\n",
    "df['rideable_type'] = df['rideable_type'].astype('category')\n",
    "df['member_casual'] = df['member_casual'].astype('category')\n",
    "\n",
    "print(\"Completed Convert!\")\n",
    "print(df.dtypes)"
   ]
  },
  {
   "attachments": {},
   "cell_type": "markdown",
   "metadata": {},
   "source": [
    "> Documention 23/6/2023 4:40 PM: \n",
    ">  *  Convert started_at, ended_at column to datetime format.\n",
    ">  *  Replace values of member_casual column: { \"member\" : \"Cyclistic_member\", \"casual\" : \"Casual_rider\" }\n",
    ">  *  Convert rideable_type and member_casual column to category."
   ]
  },
  {
   "attachments": {},
   "cell_type": "markdown",
   "metadata": {},
   "source": [
    "### Created \"ride_length\" and \"datetime\" columns \n",
    "Calculated \"ride_length\" and Add columns year, month, day of week, day based on started_at column"
   ]
  },
  {
   "cell_type": "code",
   "execution_count": 10,
   "metadata": {},
   "outputs": [],
   "source": [
    "## Add \"ride_length\" column (in seconds) calculation to dataframe\n",
    "df[\"ride_length\"] = df[\"ended_at\"] - df[\"started_at\"]\n",
    "df[\"ride_length\"] = df[\"ride_length\"].dt.seconds\n",
    "\n",
    "## extract year from started_at columnn, add it to new column year\n",
    "df[\"year\"] = df['started_at'].dt.year\n",
    "\n",
    "## extract month from started_at columnn, add it to new column month\n",
    "df[\"month\"] = df['started_at'].dt.month\n",
    "\n",
    "## extract day of week from started_at columnn, take 3 first character and add it to new column day_of_week\n",
    "df[\"day_of_week\"] = df['started_at'].dt.day_name().str[:3]\n",
    "\n",
    "## extract day from started_at columnn, add it to new column day\n",
    "df[\"day\"] = df['started_at'].dt.day"
   ]
  },
  {
   "attachments": {},
   "cell_type": "markdown",
   "metadata": {},
   "source": [
    "> Documention 23/6/2023 4:45 PM: \n",
    ">  *  Calculate \"ride_length\" column(in seconds). \n",
    ">  *  Add columns \"year\", \"month\", \"day_of_week\", \"day\" based on \"started_at\"."
   ]
  },
  {
   "cell_type": "code",
   "execution_count": 11,
   "metadata": {},
   "outputs": [
    {
     "data": {
      "text/plain": [
       "440"
      ]
     },
     "execution_count": 11,
     "metadata": {},
     "output_type": "execute_result"
    }
   ],
   "source": [
    "# Check \"ride_length\" column is \"clean\" or not\n",
    "df[df[\"ride_length\"] <= 0].shape[0]"
   ]
  },
  {
   "attachments": {},
   "cell_type": "markdown",
   "metadata": {},
   "source": [
    "> Documentation 23/06/2023 4:46 PM:\n",
    ">   * 440 negative values in \"ride_length\" column.\n",
    ">   * There are some rides where \"ride_length\" shows up as negative. We will want to delete these rides.\n"
   ]
  },
  {
   "cell_type": "code",
   "execution_count": 12,
   "metadata": {},
   "outputs": [],
   "source": [
    "# Remove negative values from ride_length column\n",
    "df = df[df[\"ride_length\"] > 0]"
   ]
  },
  {
   "cell_type": "code",
   "execution_count": 13,
   "metadata": {},
   "outputs": [
    {
     "name": "stdout",
     "output_type": "stream",
     "text": [
      "(5803280, 17)\n"
     ]
    },
    {
     "data": {
      "text/html": [
       "<div>\n",
       "<style scoped>\n",
       "    .dataframe tbody tr th:only-of-type {\n",
       "        vertical-align: middle;\n",
       "    }\n",
       "\n",
       "    .dataframe tbody tr th {\n",
       "        vertical-align: top;\n",
       "    }\n",
       "\n",
       "    .dataframe thead th {\n",
       "        text-align: right;\n",
       "    }\n",
       "</style>\n",
       "<table border=\"1\" class=\"dataframe\">\n",
       "  <thead>\n",
       "    <tr style=\"text-align: right;\">\n",
       "      <th></th>\n",
       "      <th>rideable_type</th>\n",
       "      <th>started_at</th>\n",
       "      <th>ended_at</th>\n",
       "      <th>start_station_name</th>\n",
       "      <th>start_station_id</th>\n",
       "      <th>end_station_name</th>\n",
       "      <th>end_station_id</th>\n",
       "      <th>start_lat</th>\n",
       "      <th>start_lng</th>\n",
       "      <th>end_lat</th>\n",
       "      <th>end_lng</th>\n",
       "      <th>member_casual</th>\n",
       "      <th>ride_length</th>\n",
       "      <th>year</th>\n",
       "      <th>month</th>\n",
       "      <th>day_of_week</th>\n",
       "      <th>day</th>\n",
       "    </tr>\n",
       "    <tr>\n",
       "      <th>ride_id</th>\n",
       "      <th></th>\n",
       "      <th></th>\n",
       "      <th></th>\n",
       "      <th></th>\n",
       "      <th></th>\n",
       "      <th></th>\n",
       "      <th></th>\n",
       "      <th></th>\n",
       "      <th></th>\n",
       "      <th></th>\n",
       "      <th></th>\n",
       "      <th></th>\n",
       "      <th></th>\n",
       "      <th></th>\n",
       "      <th></th>\n",
       "      <th></th>\n",
       "      <th></th>\n",
       "    </tr>\n",
       "  </thead>\n",
       "  <tbody>\n",
       "    <tr>\n",
       "      <th>BA8B9D1D0AAF5F25</th>\n",
       "      <td>electric_bike</td>\n",
       "      <td>2023-03-08 00:00:02</td>\n",
       "      <td>2023-03-08 00:06:25</td>\n",
       "      <td>Rush St &amp; Hubbard St</td>\n",
       "      <td>KA1503000044</td>\n",
       "      <td>Canal St &amp; Adams St</td>\n",
       "      <td>13011</td>\n",
       "      <td>41.890202</td>\n",
       "      <td>-87.626232</td>\n",
       "      <td>41.879255</td>\n",
       "      <td>-87.639904</td>\n",
       "      <td>Cyclistic_member</td>\n",
       "      <td>383</td>\n",
       "      <td>2023</td>\n",
       "      <td>3</td>\n",
       "      <td>Wed</td>\n",
       "      <td>8</td>\n",
       "    </tr>\n",
       "    <tr>\n",
       "      <th>841F8FE05B117E00</th>\n",
       "      <td>classic_bike</td>\n",
       "      <td>2023-03-21 14:24:42</td>\n",
       "      <td>2023-03-21 14:50:45</td>\n",
       "      <td>Sheridan Rd &amp; Montrose Ave</td>\n",
       "      <td>TA1307000107</td>\n",
       "      <td>Sheridan Rd &amp; Buena Ave</td>\n",
       "      <td>TA1309000027</td>\n",
       "      <td>41.961670</td>\n",
       "      <td>-87.654640</td>\n",
       "      <td>41.958494</td>\n",
       "      <td>-87.654966</td>\n",
       "      <td>Cyclistic_member</td>\n",
       "      <td>1563</td>\n",
       "      <td>2023</td>\n",
       "      <td>3</td>\n",
       "      <td>Tue</td>\n",
       "      <td>21</td>\n",
       "    </tr>\n",
       "    <tr>\n",
       "      <th>25892EF6A0949B97</th>\n",
       "      <td>electric_bike</td>\n",
       "      <td>2023-03-21 16:48:52</td>\n",
       "      <td>2023-03-21 16:51:27</td>\n",
       "      <td>Halsted St &amp; Roscoe St</td>\n",
       "      <td>TA1309000025</td>\n",
       "      <td>Broadway &amp; Waveland Ave</td>\n",
       "      <td>13325</td>\n",
       "      <td>41.943681</td>\n",
       "      <td>-87.648830</td>\n",
       "      <td>41.949074</td>\n",
       "      <td>-87.648636</td>\n",
       "      <td>Cyclistic_member</td>\n",
       "      <td>155</td>\n",
       "      <td>2023</td>\n",
       "      <td>3</td>\n",
       "      <td>Tue</td>\n",
       "      <td>21</td>\n",
       "    </tr>\n",
       "    <tr>\n",
       "      <th>F6514CD31F2A9723</th>\n",
       "      <td>classic_bike</td>\n",
       "      <td>2023-03-16 20:36:05</td>\n",
       "      <td>2023-03-16 20:43:11</td>\n",
       "      <td>Sheridan Rd &amp; Montrose Ave</td>\n",
       "      <td>TA1307000107</td>\n",
       "      <td>Broadway &amp; Waveland Ave</td>\n",
       "      <td>13325</td>\n",
       "      <td>41.961670</td>\n",
       "      <td>-87.654640</td>\n",
       "      <td>41.949074</td>\n",
       "      <td>-87.648636</td>\n",
       "      <td>Cyclistic_member</td>\n",
       "      <td>426</td>\n",
       "      <td>2023</td>\n",
       "      <td>3</td>\n",
       "      <td>Thu</td>\n",
       "      <td>16</td>\n",
       "    </tr>\n",
       "    <tr>\n",
       "      <th>FEDA9EE828BC56BF</th>\n",
       "      <td>electric_bike</td>\n",
       "      <td>2023-03-27 19:58:08</td>\n",
       "      <td>2023-03-27 20:03:52</td>\n",
       "      <td>Clark St &amp; Wellington Ave</td>\n",
       "      <td>TA1307000136</td>\n",
       "      <td>Broadway &amp; Waveland Ave</td>\n",
       "      <td>13325</td>\n",
       "      <td>41.936490</td>\n",
       "      <td>-87.647581</td>\n",
       "      <td>41.949074</td>\n",
       "      <td>-87.648636</td>\n",
       "      <td>Cyclistic_member</td>\n",
       "      <td>344</td>\n",
       "      <td>2023</td>\n",
       "      <td>3</td>\n",
       "      <td>Mon</td>\n",
       "      <td>27</td>\n",
       "    </tr>\n",
       "  </tbody>\n",
       "</table>\n",
       "</div>"
      ],
      "text/plain": [
       "                  rideable_type          started_at            ended_at  \\\n",
       "ride_id                                                                   \n",
       "BA8B9D1D0AAF5F25  electric_bike 2023-03-08 00:00:02 2023-03-08 00:06:25   \n",
       "841F8FE05B117E00   classic_bike 2023-03-21 14:24:42 2023-03-21 14:50:45   \n",
       "25892EF6A0949B97  electric_bike 2023-03-21 16:48:52 2023-03-21 16:51:27   \n",
       "F6514CD31F2A9723   classic_bike 2023-03-16 20:36:05 2023-03-16 20:43:11   \n",
       "FEDA9EE828BC56BF  electric_bike 2023-03-27 19:58:08 2023-03-27 20:03:52   \n",
       "\n",
       "                          start_station_name start_station_id  \\\n",
       "ride_id                                                         \n",
       "BA8B9D1D0AAF5F25        Rush St & Hubbard St     KA1503000044   \n",
       "841F8FE05B117E00  Sheridan Rd & Montrose Ave     TA1307000107   \n",
       "25892EF6A0949B97      Halsted St & Roscoe St     TA1309000025   \n",
       "F6514CD31F2A9723  Sheridan Rd & Montrose Ave     TA1307000107   \n",
       "FEDA9EE828BC56BF   Clark St & Wellington Ave     TA1307000136   \n",
       "\n",
       "                         end_station_name end_station_id  start_lat  \\\n",
       "ride_id                                                               \n",
       "BA8B9D1D0AAF5F25      Canal St & Adams St          13011  41.890202   \n",
       "841F8FE05B117E00  Sheridan Rd & Buena Ave   TA1309000027  41.961670   \n",
       "25892EF6A0949B97  Broadway & Waveland Ave          13325  41.943681   \n",
       "F6514CD31F2A9723  Broadway & Waveland Ave          13325  41.961670   \n",
       "FEDA9EE828BC56BF  Broadway & Waveland Ave          13325  41.936490   \n",
       "\n",
       "                  start_lng    end_lat    end_lng     member_casual  \\\n",
       "ride_id                                                               \n",
       "BA8B9D1D0AAF5F25 -87.626232  41.879255 -87.639904  Cyclistic_member   \n",
       "841F8FE05B117E00 -87.654640  41.958494 -87.654966  Cyclistic_member   \n",
       "25892EF6A0949B97 -87.648830  41.949074 -87.648636  Cyclistic_member   \n",
       "F6514CD31F2A9723 -87.654640  41.949074 -87.648636  Cyclistic_member   \n",
       "FEDA9EE828BC56BF -87.647581  41.949074 -87.648636  Cyclistic_member   \n",
       "\n",
       "                  ride_length  year  month day_of_week  day  \n",
       "ride_id                                                      \n",
       "BA8B9D1D0AAF5F25          383  2023      3         Wed    8  \n",
       "841F8FE05B117E00         1563  2023      3         Tue   21  \n",
       "25892EF6A0949B97          155  2023      3         Tue   21  \n",
       "F6514CD31F2A9723          426  2023      3         Thu   16  \n",
       "FEDA9EE828BC56BF          344  2023      3         Mon   27  "
      ]
     },
     "execution_count": 13,
     "metadata": {},
     "output_type": "execute_result"
    }
   ],
   "source": [
    "# # Check the number of columns and rows in dataframe, and see the last 6 rows\n",
    "print(df.shape)\n",
    "df.tail()"
   ]
  },
  {
   "attachments": {},
   "cell_type": "markdown",
   "metadata": {},
   "source": [
    "> Documentation 23/06/2023 4:48 PM \n",
    ">   * Remove the negative values( 440) in \"ride_length\" column \n",
    ">   * Data remaining : 5803280 rows and 17 columns."
   ]
  },
  {
   "attachments": {},
   "cell_type": "markdown",
   "metadata": {},
   "source": [
    "### See the missing values in the dataframe"
   ]
  },
  {
   "cell_type": "code",
   "execution_count": 14,
   "metadata": {},
   "outputs": [
    {
     "data": {
      "text/html": [
       "<div>\n",
       "<style scoped>\n",
       "    .dataframe tbody tr th:only-of-type {\n",
       "        vertical-align: middle;\n",
       "    }\n",
       "\n",
       "    .dataframe tbody tr th {\n",
       "        vertical-align: top;\n",
       "    }\n",
       "\n",
       "    .dataframe thead th {\n",
       "        text-align: right;\n",
       "    }\n",
       "</style>\n",
       "<table border=\"1\" class=\"dataframe\">\n",
       "  <thead>\n",
       "    <tr style=\"text-align: right;\">\n",
       "      <th></th>\n",
       "      <th>end_station_id</th>\n",
       "      <th>end_station_name</th>\n",
       "      <th>start_station_id</th>\n",
       "      <th>start_station_name</th>\n",
       "      <th>end_lat</th>\n",
       "      <th>end_lng</th>\n",
       "      <th>rideable_type</th>\n",
       "      <th>ride_length</th>\n",
       "      <th>day_of_week</th>\n",
       "      <th>month</th>\n",
       "      <th>year</th>\n",
       "      <th>start_lng</th>\n",
       "      <th>member_casual</th>\n",
       "      <th>started_at</th>\n",
       "      <th>start_lat</th>\n",
       "      <th>ended_at</th>\n",
       "      <th>day</th>\n",
       "    </tr>\n",
       "  </thead>\n",
       "  <tbody>\n",
       "    <tr>\n",
       "      <th>Missing_data(%)</th>\n",
       "      <td>15.444249</td>\n",
       "      <td>15.441819</td>\n",
       "      <td>14.460977</td>\n",
       "      <td>14.458703</td>\n",
       "      <td>0.100891</td>\n",
       "      <td>0.100891</td>\n",
       "      <td>0.0</td>\n",
       "      <td>0.0</td>\n",
       "      <td>0.0</td>\n",
       "      <td>0.0</td>\n",
       "      <td>0.0</td>\n",
       "      <td>0.0</td>\n",
       "      <td>0.0</td>\n",
       "      <td>0.0</td>\n",
       "      <td>0.0</td>\n",
       "      <td>0.0</td>\n",
       "      <td>0.0</td>\n",
       "    </tr>\n",
       "  </tbody>\n",
       "</table>\n",
       "</div>"
      ],
      "text/plain": [
       "                 end_station_id  end_station_name  start_station_id  \\\n",
       "Missing_data(%)       15.444249         15.441819         14.460977   \n",
       "\n",
       "                 start_station_name   end_lat   end_lng  rideable_type  \\\n",
       "Missing_data(%)           14.458703  0.100891  0.100891            0.0   \n",
       "\n",
       "                 ride_length  day_of_week  month  year  start_lng  \\\n",
       "Missing_data(%)          0.0          0.0    0.0   0.0        0.0   \n",
       "\n",
       "                 member_casual  started_at  start_lat  ended_at  day  \n",
       "Missing_data(%)            0.0         0.0        0.0       0.0  0.0  "
      ]
     },
     "execution_count": 14,
     "metadata": {},
     "output_type": "execute_result"
    }
   ],
   "source": [
    "## Create missing_data function\n",
    "def missing_data(df):\n",
    "    null = (df.isnull().sum())/df.shape[0]*100  # Calculate the missing values percentage of the data for each column\n",
    "    null = null.sort_values(ascending=False).to_frame() # Sort by missing values descending\n",
    "    null.columns = [\"Missing_data(%)\"]  \n",
    "    return null.T\n",
    "\n",
    "## Calculate missing values\n",
    "missing_data(df)"
   ]
  },
  {
   "attachments": {},
   "cell_type": "markdown",
   "metadata": {},
   "source": [
    "> Documention 23/06/2023 5:00 PM\n",
    "> * Found missing data:   \n",
    ">    -  end_station_id     : 15.444249%    \n",
    ">    -  end_station_name   : 15.441819%  \n",
    ">    -  start_station_id   : 14.460977%  \n",
    ">    -  start_station_name : 14.458703%\t     \n",
    ">    -  end_lat            : 0.100891%   \n",
    ">    -  end_lng            : 0.100891%\t    \n",
    "> * If the global address(start_lat, start_lng, end_lat, end_lng) is not missing then we don't need to remove missing data from end/start_station_id and end/start_station_name."
   ]
  },
  {
   "cell_type": "code",
   "execution_count": 15,
   "metadata": {},
   "outputs": [
    {
     "data": {
      "text/html": [
       "<div>\n",
       "<style scoped>\n",
       "    .dataframe tbody tr th:only-of-type {\n",
       "        vertical-align: middle;\n",
       "    }\n",
       "\n",
       "    .dataframe tbody tr th {\n",
       "        vertical-align: top;\n",
       "    }\n",
       "\n",
       "    .dataframe thead th {\n",
       "        text-align: right;\n",
       "    }\n",
       "</style>\n",
       "<table border=\"1\" class=\"dataframe\">\n",
       "  <thead>\n",
       "    <tr style=\"text-align: right;\">\n",
       "      <th></th>\n",
       "      <th>rideable_type</th>\n",
       "      <th>started_at</th>\n",
       "      <th>ended_at</th>\n",
       "      <th>start_station_name</th>\n",
       "      <th>start_station_id</th>\n",
       "      <th>end_station_name</th>\n",
       "      <th>end_station_id</th>\n",
       "      <th>start_lat</th>\n",
       "      <th>start_lng</th>\n",
       "      <th>end_lat</th>\n",
       "      <th>end_lng</th>\n",
       "      <th>member_casual</th>\n",
       "      <th>ride_length</th>\n",
       "      <th>year</th>\n",
       "      <th>month</th>\n",
       "      <th>day_of_week</th>\n",
       "      <th>day</th>\n",
       "    </tr>\n",
       "    <tr>\n",
       "      <th>ride_id</th>\n",
       "      <th></th>\n",
       "      <th></th>\n",
       "      <th></th>\n",
       "      <th></th>\n",
       "      <th></th>\n",
       "      <th></th>\n",
       "      <th></th>\n",
       "      <th></th>\n",
       "      <th></th>\n",
       "      <th></th>\n",
       "      <th></th>\n",
       "      <th></th>\n",
       "      <th></th>\n",
       "      <th></th>\n",
       "      <th></th>\n",
       "      <th></th>\n",
       "      <th></th>\n",
       "    </tr>\n",
       "  </thead>\n",
       "  <tbody>\n",
       "    <tr>\n",
       "      <th>D21091A31145E144</th>\n",
       "      <td>docked_bike</td>\n",
       "      <td>2022-04-25 04:06:48</td>\n",
       "      <td>2022-04-26 05:06:49</td>\n",
       "      <td>Desplaines St &amp; Randolph St</td>\n",
       "      <td>15535</td>\n",
       "      <td>NaN</td>\n",
       "      <td>NaN</td>\n",
       "      <td>41.884616</td>\n",
       "      <td>-87.644571</td>\n",
       "      <td>NaN</td>\n",
       "      <td>NaN</td>\n",
       "      <td>Casual_rider</td>\n",
       "      <td>3601</td>\n",
       "      <td>2022</td>\n",
       "      <td>4</td>\n",
       "      <td>Mon</td>\n",
       "      <td>25</td>\n",
       "    </tr>\n",
       "    <tr>\n",
       "      <th>E6C6B1D6FC42D248</th>\n",
       "      <td>docked_bike</td>\n",
       "      <td>2022-04-23 20:58:56</td>\n",
       "      <td>2022-04-27 05:00:32</td>\n",
       "      <td>Wabash Ave &amp; Grand Ave</td>\n",
       "      <td>TA1307000117</td>\n",
       "      <td>NaN</td>\n",
       "      <td>NaN</td>\n",
       "      <td>41.891466</td>\n",
       "      <td>-87.626761</td>\n",
       "      <td>NaN</td>\n",
       "      <td>NaN</td>\n",
       "      <td>Casual_rider</td>\n",
       "      <td>28896</td>\n",
       "      <td>2022</td>\n",
       "      <td>4</td>\n",
       "      <td>Sat</td>\n",
       "      <td>23</td>\n",
       "    </tr>\n",
       "    <tr>\n",
       "      <th>F7FCC59039B672D7</th>\n",
       "      <td>classic_bike</td>\n",
       "      <td>2022-04-06 14:51:32</td>\n",
       "      <td>2022-04-07 15:51:23</td>\n",
       "      <td>Keystone Ave &amp; Fullerton Ave</td>\n",
       "      <td>16010</td>\n",
       "      <td>NaN</td>\n",
       "      <td>NaN</td>\n",
       "      <td>41.924590</td>\n",
       "      <td>-87.727850</td>\n",
       "      <td>NaN</td>\n",
       "      <td>NaN</td>\n",
       "      <td>Casual_rider</td>\n",
       "      <td>3591</td>\n",
       "      <td>2022</td>\n",
       "      <td>4</td>\n",
       "      <td>Wed</td>\n",
       "      <td>6</td>\n",
       "    </tr>\n",
       "    <tr>\n",
       "      <th>1B9F07BED65435D9</th>\n",
       "      <td>docked_bike</td>\n",
       "      <td>2022-04-23 11:49:27</td>\n",
       "      <td>2022-04-25 04:56:57</td>\n",
       "      <td>Hoyne Ave &amp; Balmoral Ave</td>\n",
       "      <td>655</td>\n",
       "      <td>NaN</td>\n",
       "      <td>NaN</td>\n",
       "      <td>41.979851</td>\n",
       "      <td>-87.681932</td>\n",
       "      <td>NaN</td>\n",
       "      <td>NaN</td>\n",
       "      <td>Casual_rider</td>\n",
       "      <td>61650</td>\n",
       "      <td>2022</td>\n",
       "      <td>4</td>\n",
       "      <td>Sat</td>\n",
       "      <td>23</td>\n",
       "    </tr>\n",
       "    <tr>\n",
       "      <th>300E45F342CC4647</th>\n",
       "      <td>classic_bike</td>\n",
       "      <td>2022-04-17 16:15:43</td>\n",
       "      <td>2022-04-18 17:15:35</td>\n",
       "      <td>Cicero Ave &amp; Lake St</td>\n",
       "      <td>16903</td>\n",
       "      <td>NaN</td>\n",
       "      <td>NaN</td>\n",
       "      <td>41.886841</td>\n",
       "      <td>-87.745261</td>\n",
       "      <td>NaN</td>\n",
       "      <td>NaN</td>\n",
       "      <td>Casual_rider</td>\n",
       "      <td>3592</td>\n",
       "      <td>2022</td>\n",
       "      <td>4</td>\n",
       "      <td>Sun</td>\n",
       "      <td>17</td>\n",
       "    </tr>\n",
       "  </tbody>\n",
       "</table>\n",
       "</div>"
      ],
      "text/plain": [
       "                 rideable_type          started_at            ended_at  \\\n",
       "ride_id                                                                  \n",
       "D21091A31145E144   docked_bike 2022-04-25 04:06:48 2022-04-26 05:06:49   \n",
       "E6C6B1D6FC42D248   docked_bike 2022-04-23 20:58:56 2022-04-27 05:00:32   \n",
       "F7FCC59039B672D7  classic_bike 2022-04-06 14:51:32 2022-04-07 15:51:23   \n",
       "1B9F07BED65435D9   docked_bike 2022-04-23 11:49:27 2022-04-25 04:56:57   \n",
       "300E45F342CC4647  classic_bike 2022-04-17 16:15:43 2022-04-18 17:15:35   \n",
       "\n",
       "                            start_station_name start_station_id  \\\n",
       "ride_id                                                           \n",
       "D21091A31145E144   Desplaines St & Randolph St            15535   \n",
       "E6C6B1D6FC42D248        Wabash Ave & Grand Ave     TA1307000117   \n",
       "F7FCC59039B672D7  Keystone Ave & Fullerton Ave            16010   \n",
       "1B9F07BED65435D9      Hoyne Ave & Balmoral Ave              655   \n",
       "300E45F342CC4647          Cicero Ave & Lake St            16903   \n",
       "\n",
       "                 end_station_name end_station_id  start_lat  start_lng  \\\n",
       "ride_id                                                                  \n",
       "D21091A31145E144              NaN            NaN  41.884616 -87.644571   \n",
       "E6C6B1D6FC42D248              NaN            NaN  41.891466 -87.626761   \n",
       "F7FCC59039B672D7              NaN            NaN  41.924590 -87.727850   \n",
       "1B9F07BED65435D9              NaN            NaN  41.979851 -87.681932   \n",
       "300E45F342CC4647              NaN            NaN  41.886841 -87.745261   \n",
       "\n",
       "                  end_lat  end_lng member_casual  ride_length  year  month  \\\n",
       "ride_id                                                                      \n",
       "D21091A31145E144      NaN      NaN  Casual_rider         3601  2022      4   \n",
       "E6C6B1D6FC42D248      NaN      NaN  Casual_rider        28896  2022      4   \n",
       "F7FCC59039B672D7      NaN      NaN  Casual_rider         3591  2022      4   \n",
       "1B9F07BED65435D9      NaN      NaN  Casual_rider        61650  2022      4   \n",
       "300E45F342CC4647      NaN      NaN  Casual_rider         3592  2022      4   \n",
       "\n",
       "                 day_of_week  day  \n",
       "ride_id                            \n",
       "D21091A31145E144         Mon   25  \n",
       "E6C6B1D6FC42D248         Sat   23  \n",
       "F7FCC59039B672D7         Wed    6  \n",
       "1B9F07BED65435D9         Sat   23  \n",
       "300E45F342CC4647         Sun   17  "
      ]
     },
     "execution_count": 15,
     "metadata": {},
     "output_type": "execute_result"
    }
   ],
   "source": [
    "# See How many rows of end station information is all null?\n",
    "missing_end_station = df[df[\"end_lat\"].isnull() & df[\"end_lng\"].isnull() & df[\"end_station_name\"].isnull() & df[\"end_station_id\"].isnull()]\n",
    "missing_end_station.head()"
   ]
  },
  {
   "attachments": {},
   "cell_type": "markdown",
   "metadata": {},
   "source": [
    "### Remove missing end station values"
   ]
  },
  {
   "cell_type": "code",
   "execution_count": 16,
   "metadata": {},
   "outputs": [
    {
     "name": "stdout",
     "output_type": "stream",
     "text": [
      " Remove 5855 missing end station values.\n"
     ]
    }
   ],
   "source": [
    "# Remove rows missing all end station values\n",
    "df = df[~((df[\"end_lat\"].isnull())\n",
    "          & (df[\"end_lng\"].isnull())\n",
    "          & (df[\"end_station_name\"].isnull())\n",
    "          & (df[\"end_station_id\"].isnull())\n",
    "          )]\n",
    "print(f\" Remove {missing_end_station.shape[0]} rows missing all end station values.\")"
   ]
  },
  {
   "attachments": {},
   "cell_type": "markdown",
   "metadata": {},
   "source": [
    "> Documention 23/06/2023 7:30 PM  \n",
    ">   * Remove 5855 rows are missing all data of end station info."
   ]
  },
  {
   "attachments": {},
   "cell_type": "markdown",
   "metadata": {},
   "source": [
    "### Create a start_end_station table contain start/end_station info \n",
    "\n",
    "Create start_end_station table so we can track the name or id of the station based on latitude and longitude values if needed."
   ]
  },
  {
   "cell_type": "code",
   "execution_count": 17,
   "metadata": {},
   "outputs": [],
   "source": [
    "# Create a table contain the name and id of all station \n",
    "station_info = df[[\"start_station_id\",\"start_station_name\",\"start_lat\",\"start_lng\"]]\n",
    "station_info = station_info.drop_duplicates()\n",
    "station_info = station_info.reset_index(drop=True)\n",
    "\n",
    "# Rename the column of station table \n",
    "station_info = station_info.rename(columns={\n",
    "    \"start_station_id\": \"station_id\",\n",
    "    \"start_station_name\": \"station_name\",\n",
    "    \"start_lat\": \"lat\",\n",
    "    \"start_lng\": \"lng\"\n",
    "})"
   ]
  },
  {
   "cell_type": "code",
   "execution_count": 11,
   "metadata": {},
   "outputs": [],
   "source": [
    "# Fill missing values # We can use it if we need the data for the name or id of station\n",
    "\n",
    "## Fill null values in end_station_id column with the id that have the same values end_station_name.\n",
    "#station_info['station_id'] = station_info['station_id'].fillna(df['station_name'].map(End_id)) "
   ]
  },
  {
   "attachments": {},
   "cell_type": "markdown",
   "metadata": {},
   "source": [
    "## STEP 4: CONDUCT DESCRIPTIVE ANALYSIS\n",
    "\n",
    "We'll use Microsoft Power BI tool to calculate this step."
   ]
  },
  {
   "attachments": {},
   "cell_type": "markdown",
   "metadata": {},
   "source": [
    "### Delete csv file **if needed.**"
   ]
  },
  {
   "cell_type": "code",
   "execution_count": 18,
   "metadata": {},
   "outputs": [],
   "source": [
    "## Delete csv if needed use os.remove(\"file_name.csv\")\n",
    "#os.remove(\"bike_data.csv\")\n",
    "#os.remove(\"station_info.csv\")"
   ]
  },
  {
   "cell_type": "code",
   "execution_count": 19,
   "metadata": {},
   "outputs": [
    {
     "name": "stdout",
     "output_type": "stream",
     "text": [
      "The bike_data.csv file has been created.\n",
      "The station_info.csv file has been created.\n"
     ]
    }
   ],
   "source": [
    "#EXPORT SUMMARY FILE FOR FURTHER ANALYSIS\n",
    "## Create \"bike_data.csv\" file\n",
    "df.to_csv(\"bike_data.csv\", index=True)\n",
    "print(\"The bike_data.csv file has been created.\")\n",
    "\n",
    "# Create csv file contain station info\n",
    "station_info.to_csv(\"station_info.csv\",index=False)\n",
    "print(\"The station_info.csv file has been created.\")"
   ]
  },
  {
   "attachments": {},
   "cell_type": "markdown",
   "metadata": {},
   "source": [
    "## Documention from working with Microsoft Power BI"
   ]
  },
  {
   "attachments": {},
   "cell_type": "markdown",
   "metadata": {},
   "source": [
    "### Import data into PBI and Transform it.\n",
    "● Add column name global_address for two table bike_data, station_info. Merge 2 columns latitude and longitude of the start station(separator: comma)  \n",
    "● Remove columns lat, lng in table station_info.  \n",
    "● Create relationships between station_info and bike_data through global_address column( many to many).  \n",
    "● Create blank table to contain measure values: Description_analysis = #table({}, {}). Not working like I want.\n",
    "### Conduct descriptive analysis.\n",
    "● Calculate the mean of ride_length.    \n",
    "● Calculate the max ride_length.    \n",
    "● Calculate the mode of day_of_week.    \n",
    "● Create measures percentage of Casual rides and percentage of Cyclistic members.   \n",
    "● Add day_name column for better visualization.     \n",
    "● Create measures for Top 1 day_name that user rent bicycles the most.   \n",
    "### Visualize data, create a report to uncover insights.\n",
    "### Presentation Cyclistic Bike Rentals Marketing Strategy."
   ]
  }
 ],
 "metadata": {
  "kernelspec": {
   "display_name": "Python 3",
   "language": "python",
   "name": "python3"
  },
  "language_info": {
   "codemirror_mode": {
    "name": "ipython",
    "version": 3
   },
   "file_extension": ".py",
   "mimetype": "text/x-python",
   "name": "python",
   "nbconvert_exporter": "python",
   "pygments_lexer": "ipython3",
   "version": "3.11.4"
  },
  "orig_nbformat": 4
 },
 "nbformat": 4,
 "nbformat_minor": 2
}
